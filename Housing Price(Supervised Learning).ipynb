{
 "cells": [
  {
   "cell_type": "code",
   "execution_count": 11,
   "id": "5d6fb891",
   "metadata": {},
   "outputs": [],
   "source": [
    "# Memprediksi Harga Rumah dengan 3 kamar tidur, jumlah kamar mandi 2, luas rumah 1800 sqt, grade rumah 7, dan tahun pembangunan tahun 1990\n",
    "# Machine Learning Multiple Linear Regression (Supervised Learning)\n",
    "import pandas as pd\n",
    "import matplotlib.pyplot as plt\n",
    "import numpy as np\n",
    "import seaborn as sns\n",
    "from sklearn.linear_model import LinearRegression\n",
    "from sklearn.model_selection import train_test_split\n"
   ]
  },
  {
   "cell_type": "code",
   "execution_count": 50,
   "id": "d1be8fc2",
   "metadata": {},
   "outputs": [],
   "source": [
    "# Load Data Set Housing.csv\n",
    "df =pd.read_csv('Downloads/Datasets Phyton/kc_house_data.csv', usecols=['bedrooms','bathrooms','sqft_living','grade','price','yr_built'])\n",
    "\n"
   ]
  },
  {
   "cell_type": "code",
   "execution_count": 51,
   "id": "43ed3c93",
   "metadata": {},
   "outputs": [
    {
     "data": {
      "text/html": [
       "<div>\n",
       "<style scoped>\n",
       "    .dataframe tbody tr th:only-of-type {\n",
       "        vertical-align: middle;\n",
       "    }\n",
       "\n",
       "    .dataframe tbody tr th {\n",
       "        vertical-align: top;\n",
       "    }\n",
       "\n",
       "    .dataframe thead th {\n",
       "        text-align: right;\n",
       "    }\n",
       "</style>\n",
       "<table border=\"1\" class=\"dataframe\">\n",
       "  <thead>\n",
       "    <tr style=\"text-align: right;\">\n",
       "      <th></th>\n",
       "      <th>price</th>\n",
       "      <th>bedrooms</th>\n",
       "      <th>bathrooms</th>\n",
       "      <th>sqft_living</th>\n",
       "      <th>grade</th>\n",
       "      <th>yr_built</th>\n",
       "    </tr>\n",
       "  </thead>\n",
       "  <tbody>\n",
       "    <tr>\n",
       "      <th>0</th>\n",
       "      <td>221900.0</td>\n",
       "      <td>3</td>\n",
       "      <td>1.00</td>\n",
       "      <td>1180</td>\n",
       "      <td>7</td>\n",
       "      <td>1955</td>\n",
       "    </tr>\n",
       "    <tr>\n",
       "      <th>1</th>\n",
       "      <td>538000.0</td>\n",
       "      <td>3</td>\n",
       "      <td>2.25</td>\n",
       "      <td>2570</td>\n",
       "      <td>7</td>\n",
       "      <td>1951</td>\n",
       "    </tr>\n",
       "    <tr>\n",
       "      <th>2</th>\n",
       "      <td>180000.0</td>\n",
       "      <td>2</td>\n",
       "      <td>1.00</td>\n",
       "      <td>770</td>\n",
       "      <td>6</td>\n",
       "      <td>1933</td>\n",
       "    </tr>\n",
       "    <tr>\n",
       "      <th>3</th>\n",
       "      <td>604000.0</td>\n",
       "      <td>4</td>\n",
       "      <td>3.00</td>\n",
       "      <td>1960</td>\n",
       "      <td>7</td>\n",
       "      <td>1965</td>\n",
       "    </tr>\n",
       "    <tr>\n",
       "      <th>4</th>\n",
       "      <td>510000.0</td>\n",
       "      <td>3</td>\n",
       "      <td>2.00</td>\n",
       "      <td>1680</td>\n",
       "      <td>8</td>\n",
       "      <td>1987</td>\n",
       "    </tr>\n",
       "    <tr>\n",
       "      <th>...</th>\n",
       "      <td>...</td>\n",
       "      <td>...</td>\n",
       "      <td>...</td>\n",
       "      <td>...</td>\n",
       "      <td>...</td>\n",
       "      <td>...</td>\n",
       "    </tr>\n",
       "    <tr>\n",
       "      <th>21608</th>\n",
       "      <td>360000.0</td>\n",
       "      <td>3</td>\n",
       "      <td>2.50</td>\n",
       "      <td>1530</td>\n",
       "      <td>8</td>\n",
       "      <td>2009</td>\n",
       "    </tr>\n",
       "    <tr>\n",
       "      <th>21609</th>\n",
       "      <td>400000.0</td>\n",
       "      <td>4</td>\n",
       "      <td>2.50</td>\n",
       "      <td>2310</td>\n",
       "      <td>8</td>\n",
       "      <td>2014</td>\n",
       "    </tr>\n",
       "    <tr>\n",
       "      <th>21610</th>\n",
       "      <td>402101.0</td>\n",
       "      <td>2</td>\n",
       "      <td>0.75</td>\n",
       "      <td>1020</td>\n",
       "      <td>7</td>\n",
       "      <td>2009</td>\n",
       "    </tr>\n",
       "    <tr>\n",
       "      <th>21611</th>\n",
       "      <td>400000.0</td>\n",
       "      <td>3</td>\n",
       "      <td>2.50</td>\n",
       "      <td>1600</td>\n",
       "      <td>8</td>\n",
       "      <td>2004</td>\n",
       "    </tr>\n",
       "    <tr>\n",
       "      <th>21612</th>\n",
       "      <td>325000.0</td>\n",
       "      <td>2</td>\n",
       "      <td>0.75</td>\n",
       "      <td>1020</td>\n",
       "      <td>7</td>\n",
       "      <td>2008</td>\n",
       "    </tr>\n",
       "  </tbody>\n",
       "</table>\n",
       "<p>21613 rows × 6 columns</p>\n",
       "</div>"
      ],
      "text/plain": [
       "          price  bedrooms  bathrooms  sqft_living  grade  yr_built\n",
       "0      221900.0         3       1.00         1180      7      1955\n",
       "1      538000.0         3       2.25         2570      7      1951\n",
       "2      180000.0         2       1.00          770      6      1933\n",
       "3      604000.0         4       3.00         1960      7      1965\n",
       "4      510000.0         3       2.00         1680      8      1987\n",
       "...         ...       ...        ...          ...    ...       ...\n",
       "21608  360000.0         3       2.50         1530      8      2009\n",
       "21609  400000.0         4       2.50         2310      8      2014\n",
       "21610  402101.0         2       0.75         1020      7      2009\n",
       "21611  400000.0         3       2.50         1600      8      2004\n",
       "21612  325000.0         2       0.75         1020      7      2008\n",
       "\n",
       "[21613 rows x 6 columns]"
      ]
     },
     "execution_count": 51,
     "metadata": {},
     "output_type": "execute_result"
    }
   ],
   "source": [
    "# Data Frame dari Data\n",
    "df\n"
   ]
  },
  {
   "cell_type": "code",
   "execution_count": 52,
   "id": "89794fa6",
   "metadata": {},
   "outputs": [
    {
     "data": {
      "text/html": [
       "<div>\n",
       "<style scoped>\n",
       "    .dataframe tbody tr th:only-of-type {\n",
       "        vertical-align: middle;\n",
       "    }\n",
       "\n",
       "    .dataframe tbody tr th {\n",
       "        vertical-align: top;\n",
       "    }\n",
       "\n",
       "    .dataframe thead th {\n",
       "        text-align: right;\n",
       "    }\n",
       "</style>\n",
       "<table border=\"1\" class=\"dataframe\">\n",
       "  <thead>\n",
       "    <tr style=\"text-align: right;\">\n",
       "      <th></th>\n",
       "      <th>price</th>\n",
       "      <th>bedrooms</th>\n",
       "      <th>bathrooms</th>\n",
       "      <th>sqft_living</th>\n",
       "      <th>grade</th>\n",
       "      <th>yr_built</th>\n",
       "    </tr>\n",
       "  </thead>\n",
       "  <tbody>\n",
       "    <tr>\n",
       "      <th>0</th>\n",
       "      <td>221900.0</td>\n",
       "      <td>3</td>\n",
       "      <td>1.00</td>\n",
       "      <td>1180</td>\n",
       "      <td>7</td>\n",
       "      <td>1955</td>\n",
       "    </tr>\n",
       "    <tr>\n",
       "      <th>1</th>\n",
       "      <td>538000.0</td>\n",
       "      <td>3</td>\n",
       "      <td>2.25</td>\n",
       "      <td>2570</td>\n",
       "      <td>7</td>\n",
       "      <td>1951</td>\n",
       "    </tr>\n",
       "    <tr>\n",
       "      <th>2</th>\n",
       "      <td>180000.0</td>\n",
       "      <td>2</td>\n",
       "      <td>1.00</td>\n",
       "      <td>770</td>\n",
       "      <td>6</td>\n",
       "      <td>1933</td>\n",
       "    </tr>\n",
       "    <tr>\n",
       "      <th>3</th>\n",
       "      <td>604000.0</td>\n",
       "      <td>4</td>\n",
       "      <td>3.00</td>\n",
       "      <td>1960</td>\n",
       "      <td>7</td>\n",
       "      <td>1965</td>\n",
       "    </tr>\n",
       "    <tr>\n",
       "      <th>4</th>\n",
       "      <td>510000.0</td>\n",
       "      <td>3</td>\n",
       "      <td>2.00</td>\n",
       "      <td>1680</td>\n",
       "      <td>8</td>\n",
       "      <td>1987</td>\n",
       "    </tr>\n",
       "  </tbody>\n",
       "</table>\n",
       "</div>"
      ],
      "text/plain": [
       "      price  bedrooms  bathrooms  sqft_living  grade  yr_built\n",
       "0  221900.0         3       1.00         1180      7      1955\n",
       "1  538000.0         3       2.25         2570      7      1951\n",
       "2  180000.0         2       1.00          770      6      1933\n",
       "3  604000.0         4       3.00         1960      7      1965\n",
       "4  510000.0         3       2.00         1680      8      1987"
      ]
     },
     "execution_count": 52,
     "metadata": {},
     "output_type": "execute_result"
    }
   ],
   "source": [
    "# 5 Baris Teratas\n",
    "df.head()"
   ]
  },
  {
   "cell_type": "code",
   "execution_count": 53,
   "id": "bb96bdad",
   "metadata": {},
   "outputs": [
    {
     "data": {
      "text/plain": [
       "(21613, 6)"
      ]
     },
     "execution_count": 53,
     "metadata": {},
     "output_type": "execute_result"
    }
   ],
   "source": [
    "# mengetahui jumlah kolom dan baris dari data,\n",
    "# Data memiliki 6 kolom (features),dengan 21613 baris  \n",
    "df.shape\n"
   ]
  },
  {
   "cell_type": "code",
   "execution_count": 16,
   "id": "cd724356",
   "metadata": {},
   "outputs": [
    {
     "data": {
      "text/plain": [
       "<bound method DataFrame.info of                id             date     price  bedrooms  bathrooms  \\\n",
       "0      7129300520  20141013T000000  221900.0         3       1.00   \n",
       "1      6414100192  20141209T000000  538000.0         3       2.25   \n",
       "2      5631500400  20150225T000000  180000.0         2       1.00   \n",
       "3      2487200875  20141209T000000  604000.0         4       3.00   \n",
       "4      1954400510  20150218T000000  510000.0         3       2.00   \n",
       "...           ...              ...       ...       ...        ...   \n",
       "21608   263000018  20140521T000000  360000.0         3       2.50   \n",
       "21609  6600060120  20150223T000000  400000.0         4       2.50   \n",
       "21610  1523300141  20140623T000000  402101.0         2       0.75   \n",
       "21611   291310100  20150116T000000  400000.0         3       2.50   \n",
       "21612  1523300157  20141015T000000  325000.0         2       0.75   \n",
       "\n",
       "       sqft_living  sqft_lot  floors  waterfront  view  ...  grade  \\\n",
       "0             1180      5650     1.0           0     0  ...      7   \n",
       "1             2570      7242     2.0           0     0  ...      7   \n",
       "2              770     10000     1.0           0     0  ...      6   \n",
       "3             1960      5000     1.0           0     0  ...      7   \n",
       "4             1680      8080     1.0           0     0  ...      8   \n",
       "...            ...       ...     ...         ...   ...  ...    ...   \n",
       "21608         1530      1131     3.0           0     0  ...      8   \n",
       "21609         2310      5813     2.0           0     0  ...      8   \n",
       "21610         1020      1350     2.0           0     0  ...      7   \n",
       "21611         1600      2388     2.0           0     0  ...      8   \n",
       "21612         1020      1076     2.0           0     0  ...      7   \n",
       "\n",
       "       sqft_above  sqft_basement  yr_built  yr_renovated  zipcode      lat  \\\n",
       "0            1180              0      1955             0    98178  47.5112   \n",
       "1            2170            400      1951          1991    98125  47.7210   \n",
       "2             770              0      1933             0    98028  47.7379   \n",
       "3            1050            910      1965             0    98136  47.5208   \n",
       "4            1680              0      1987             0    98074  47.6168   \n",
       "...           ...            ...       ...           ...      ...      ...   \n",
       "21608        1530              0      2009             0    98103  47.6993   \n",
       "21609        2310              0      2014             0    98146  47.5107   \n",
       "21610        1020              0      2009             0    98144  47.5944   \n",
       "21611        1600              0      2004             0    98027  47.5345   \n",
       "21612        1020              0      2008             0    98144  47.5941   \n",
       "\n",
       "          long  sqft_living15  sqft_lot15  \n",
       "0     -122.257           1340        5650  \n",
       "1     -122.319           1690        7639  \n",
       "2     -122.233           2720        8062  \n",
       "3     -122.393           1360        5000  \n",
       "4     -122.045           1800        7503  \n",
       "...        ...            ...         ...  \n",
       "21608 -122.346           1530        1509  \n",
       "21609 -122.362           1830        7200  \n",
       "21610 -122.299           1020        2007  \n",
       "21611 -122.069           1410        1287  \n",
       "21612 -122.299           1020        1357  \n",
       "\n",
       "[21613 rows x 21 columns]>"
      ]
     },
     "execution_count": 16,
     "metadata": {},
     "output_type": "execute_result"
    }
   ],
   "source": [
    "# Melihat informasi data,jumlah data, tipe data, memory yang digunakan\n",
    "# data sudah berbentuk numerik\n",
    "df.info"
   ]
  },
  {
   "cell_type": "code",
   "execution_count": 54,
   "id": "4b90397c",
   "metadata": {},
   "outputs": [
    {
     "data": {
      "text/html": [
       "<div>\n",
       "<style scoped>\n",
       "    .dataframe tbody tr th:only-of-type {\n",
       "        vertical-align: middle;\n",
       "    }\n",
       "\n",
       "    .dataframe tbody tr th {\n",
       "        vertical-align: top;\n",
       "    }\n",
       "\n",
       "    .dataframe thead th {\n",
       "        text-align: right;\n",
       "    }\n",
       "</style>\n",
       "<table border=\"1\" class=\"dataframe\">\n",
       "  <thead>\n",
       "    <tr style=\"text-align: right;\">\n",
       "      <th></th>\n",
       "      <th>price</th>\n",
       "      <th>bedrooms</th>\n",
       "      <th>bathrooms</th>\n",
       "      <th>sqft_living</th>\n",
       "      <th>grade</th>\n",
       "      <th>yr_built</th>\n",
       "    </tr>\n",
       "  </thead>\n",
       "  <tbody>\n",
       "    <tr>\n",
       "      <th>count</th>\n",
       "      <td>2.161300e+04</td>\n",
       "      <td>21613.000000</td>\n",
       "      <td>21613.000000</td>\n",
       "      <td>21613.000000</td>\n",
       "      <td>21613.000000</td>\n",
       "      <td>21613.000000</td>\n",
       "    </tr>\n",
       "    <tr>\n",
       "      <th>mean</th>\n",
       "      <td>5.400881e+05</td>\n",
       "      <td>3.370842</td>\n",
       "      <td>2.114757</td>\n",
       "      <td>2079.899736</td>\n",
       "      <td>7.656873</td>\n",
       "      <td>1971.005136</td>\n",
       "    </tr>\n",
       "    <tr>\n",
       "      <th>std</th>\n",
       "      <td>3.671272e+05</td>\n",
       "      <td>0.930062</td>\n",
       "      <td>0.770163</td>\n",
       "      <td>918.440897</td>\n",
       "      <td>1.175459</td>\n",
       "      <td>29.373411</td>\n",
       "    </tr>\n",
       "    <tr>\n",
       "      <th>min</th>\n",
       "      <td>7.500000e+04</td>\n",
       "      <td>0.000000</td>\n",
       "      <td>0.000000</td>\n",
       "      <td>290.000000</td>\n",
       "      <td>1.000000</td>\n",
       "      <td>1900.000000</td>\n",
       "    </tr>\n",
       "    <tr>\n",
       "      <th>25%</th>\n",
       "      <td>3.219500e+05</td>\n",
       "      <td>3.000000</td>\n",
       "      <td>1.750000</td>\n",
       "      <td>1427.000000</td>\n",
       "      <td>7.000000</td>\n",
       "      <td>1951.000000</td>\n",
       "    </tr>\n",
       "    <tr>\n",
       "      <th>50%</th>\n",
       "      <td>4.500000e+05</td>\n",
       "      <td>3.000000</td>\n",
       "      <td>2.250000</td>\n",
       "      <td>1910.000000</td>\n",
       "      <td>7.000000</td>\n",
       "      <td>1975.000000</td>\n",
       "    </tr>\n",
       "    <tr>\n",
       "      <th>75%</th>\n",
       "      <td>6.450000e+05</td>\n",
       "      <td>4.000000</td>\n",
       "      <td>2.500000</td>\n",
       "      <td>2550.000000</td>\n",
       "      <td>8.000000</td>\n",
       "      <td>1997.000000</td>\n",
       "    </tr>\n",
       "    <tr>\n",
       "      <th>max</th>\n",
       "      <td>7.700000e+06</td>\n",
       "      <td>33.000000</td>\n",
       "      <td>8.000000</td>\n",
       "      <td>13540.000000</td>\n",
       "      <td>13.000000</td>\n",
       "      <td>2015.000000</td>\n",
       "    </tr>\n",
       "  </tbody>\n",
       "</table>\n",
       "</div>"
      ],
      "text/plain": [
       "              price      bedrooms     bathrooms   sqft_living         grade  \\\n",
       "count  2.161300e+04  21613.000000  21613.000000  21613.000000  21613.000000   \n",
       "mean   5.400881e+05      3.370842      2.114757   2079.899736      7.656873   \n",
       "std    3.671272e+05      0.930062      0.770163    918.440897      1.175459   \n",
       "min    7.500000e+04      0.000000      0.000000    290.000000      1.000000   \n",
       "25%    3.219500e+05      3.000000      1.750000   1427.000000      7.000000   \n",
       "50%    4.500000e+05      3.000000      2.250000   1910.000000      7.000000   \n",
       "75%    6.450000e+05      4.000000      2.500000   2550.000000      8.000000   \n",
       "max    7.700000e+06     33.000000      8.000000  13540.000000     13.000000   \n",
       "\n",
       "           yr_built  \n",
       "count  21613.000000  \n",
       "mean    1971.005136  \n",
       "std       29.373411  \n",
       "min     1900.000000  \n",
       "25%     1951.000000  \n",
       "50%     1975.000000  \n",
       "75%     1997.000000  \n",
       "max     2015.000000  "
      ]
     },
     "execution_count": 54,
     "metadata": {},
     "output_type": "execute_result"
    }
   ],
   "source": [
    "# Melihat Statistics Decription dari data, mulai dari mean,kwartil, stardard deviasation\n",
    "df.describe()"
   ]
  },
  {
   "cell_type": "code",
   "execution_count": 55,
   "id": "e4d0a204",
   "metadata": {},
   "outputs": [],
   "source": [
    "# Merubah tipe data dari bedroom yang semula float menjadi Integer\n",
    "df['bathrooms']= df['bathrooms'].astype('int')\n"
   ]
  },
  {
   "cell_type": "code",
   "execution_count": 56,
   "id": "b46ee5fe",
   "metadata": {},
   "outputs": [],
   "source": [
    "# Mengganti nilai 33 menjadi 3\n",
    "df['bedrooms']= df['bedrooms'].replace(33,3)\n"
   ]
  },
  {
   "cell_type": "code",
   "execution_count": 20,
   "id": "59591299",
   "metadata": {},
   "outputs": [
    {
     "data": {
      "text/plain": [
       "id               0\n",
       "date             0\n",
       "price            0\n",
       "bedrooms         0\n",
       "bathrooms        0\n",
       "sqft_living      0\n",
       "sqft_lot         0\n",
       "floors           0\n",
       "waterfront       0\n",
       "view             0\n",
       "condition        0\n",
       "grade            0\n",
       "sqft_above       0\n",
       "sqft_basement    0\n",
       "yr_built         0\n",
       "yr_renovated     0\n",
       "zipcode          0\n",
       "lat              0\n",
       "long             0\n",
       "sqft_living15    0\n",
       "sqft_lot15       0\n",
       "dtype: int64"
      ]
     },
     "execution_count": 20,
     "metadata": {},
     "output_type": "execute_result"
    }
   ],
   "source": [
    "# Mencari dan menangani missing value (Nilai yang kosong)\n",
    "df.isnull().sum()"
   ]
  },
  {
   "cell_type": "code",
   "execution_count": 57,
   "id": "09bf61b4",
   "metadata": {},
   "outputs": [
    {
     "data": {
      "text/html": [
       "<div>\n",
       "<style scoped>\n",
       "    .dataframe tbody tr th:only-of-type {\n",
       "        vertical-align: middle;\n",
       "    }\n",
       "\n",
       "    .dataframe tbody tr th {\n",
       "        vertical-align: top;\n",
       "    }\n",
       "\n",
       "    .dataframe thead th {\n",
       "        text-align: right;\n",
       "    }\n",
       "</style>\n",
       "<table border=\"1\" class=\"dataframe\">\n",
       "  <thead>\n",
       "    <tr style=\"text-align: right;\">\n",
       "      <th></th>\n",
       "      <th>price</th>\n",
       "      <th>bedrooms</th>\n",
       "      <th>bathrooms</th>\n",
       "      <th>sqft_living</th>\n",
       "      <th>grade</th>\n",
       "      <th>yr_built</th>\n",
       "    </tr>\n",
       "  </thead>\n",
       "  <tbody>\n",
       "    <tr>\n",
       "      <th>0</th>\n",
       "      <td>221900.0</td>\n",
       "      <td>3</td>\n",
       "      <td>1</td>\n",
       "      <td>1180</td>\n",
       "      <td>7</td>\n",
       "      <td>1955</td>\n",
       "    </tr>\n",
       "    <tr>\n",
       "      <th>1</th>\n",
       "      <td>538000.0</td>\n",
       "      <td>3</td>\n",
       "      <td>2</td>\n",
       "      <td>2570</td>\n",
       "      <td>7</td>\n",
       "      <td>1951</td>\n",
       "    </tr>\n",
       "    <tr>\n",
       "      <th>2</th>\n",
       "      <td>180000.0</td>\n",
       "      <td>2</td>\n",
       "      <td>1</td>\n",
       "      <td>770</td>\n",
       "      <td>6</td>\n",
       "      <td>1933</td>\n",
       "    </tr>\n",
       "    <tr>\n",
       "      <th>3</th>\n",
       "      <td>604000.0</td>\n",
       "      <td>4</td>\n",
       "      <td>3</td>\n",
       "      <td>1960</td>\n",
       "      <td>7</td>\n",
       "      <td>1965</td>\n",
       "    </tr>\n",
       "    <tr>\n",
       "      <th>4</th>\n",
       "      <td>510000.0</td>\n",
       "      <td>3</td>\n",
       "      <td>2</td>\n",
       "      <td>1680</td>\n",
       "      <td>8</td>\n",
       "      <td>1987</td>\n",
       "    </tr>\n",
       "  </tbody>\n",
       "</table>\n",
       "</div>"
      ],
      "text/plain": [
       "      price  bedrooms  bathrooms  sqft_living  grade  yr_built\n",
       "0  221900.0         3          1         1180      7      1955\n",
       "1  538000.0         3          2         2570      7      1951\n",
       "2  180000.0         2          1          770      6      1933\n",
       "3  604000.0         4          3         1960      7      1965\n",
       "4  510000.0         3          2         1680      8      1987"
      ]
     },
     "execution_count": 57,
     "metadata": {},
     "output_type": "execute_result"
    }
   ],
   "source": [
    "# Exploratory Data Analysis (EDA)\n",
    "df.head()"
   ]
  },
  {
   "cell_type": "code",
   "execution_count": 58,
   "id": "f81e48a0",
   "metadata": {},
   "outputs": [
    {
     "name": "stderr",
     "output_type": "stream",
     "text": [
      "C:\\Users\\LENOVO\\anaconda3\\lib\\site-packages\\seaborn\\_decorators.py:36: FutureWarning: Pass the following variable as a keyword arg: x. From version 0.12, the only valid positional argument will be `data`, and passing other arguments without an explicit keyword will result in an error or misinterpretation.\n",
      "  warnings.warn(\n"
     ]
    },
    {
     "data": {
      "image/png": "[encoded data removed]",
      "text/plain": [
       "<Figure size 864x288 with 2 Axes>"
      ]
     },
     "metadata": {
      "needs_background": "light"
     },
     "output_type": "display_data"
    }
   ],
   "source": [
    "# Univariate Analysis bedroom\n",
    "# Melihat distribusi dari bedrooms\n",
    "# Dari hasil plot dapat kita lihat sebagian jumlah kamar tidur  \n",
    "f = plt.figure(figsize=(12,4))\n",
    "\n",
    "f.add_subplot(1,2,1)\n",
    "sns.countplot(df['bedrooms'])\n",
    "\n",
    "f.add_subplot(1, 2, 2)\n",
    "plt.boxplot(df['bedrooms'])\n",
    "plt.show()\n"
   ]
  },
  {
   "cell_type": "code",
   "execution_count": 59,
   "id": "fe86f27c",
   "metadata": {},
   "outputs": [
    {
     "name": "stderr",
     "output_type": "stream",
     "text": [
      "C:\\Users\\LENOVO\\anaconda3\\lib\\site-packages\\seaborn\\_decorators.py:36: FutureWarning: Pass the following variable as a keyword arg: x. From version 0.12, the only valid positional argument will be `data`, and passing other arguments without an explicit keyword will result in an error or misinterpretation.\n",
      "  warnings.warn(\n"
     ]
    },
    {
     "data": {
      "image/png": "[encoded data removed]",
      "text/plain": [
       "<Figure size 864x288 with 2 Axes>"
      ]
     },
     "metadata": {
      "needs_background": "light"
     },
     "output_type": "display_data"
    }
   ],
   "source": [
    "# Univariate Analysis dari Bathrooms\n",
    "# Melihat distribusi dari Bathrooms\n",
    "# Jumlah kamar mandi paling banyak berjumlah 3 dan 4\n",
    "\n",
    "f = plt.figure(figsize=(12,4))\n",
    "f.add_subplot(1, 2, 1)\n",
    "sns.countplot(df['bathrooms'])\n",
    "\n",
    "f.add_subplot (1, 2, 2)\n",
    "plt.boxplot(df['bathrooms'])\n",
    "plt.show()            \n",
    "            "
   ]
  },
  {
   "cell_type": "code",
   "execution_count": 60,
   "id": "205e276d",
   "metadata": {},
   "outputs": [
    {
     "data": {
      "image/png": "[encoded data removed]",
      "text/plain": [
       "<Figure size 864x288 with 2 Axes>"
      ]
     },
     "metadata": {
      "needs_background": "light"
     },
     "output_type": "display_data"
    }
   ],
   "source": [
    "# Univariate analysis sqlft_living\n",
    "# Melihat distribusi dari sqlft_living\n",
    "# Density dari distribusi luas rumah sekitar 2000\n",
    "# Banyak Outliers\n",
    "\n",
    "f = plt.figure(figsize=(12,4))\n",
    "f.add_subplot(1, 2, 1)\n",
    "df['sqft_living'].plot(kind='kde')\n",
    "\n",
    "f.add_subplot(1, 2, 2)\n",
    "plt.boxplot(df['sqft_living'])\n",
    "plt.show()"
   ]
  },
  {
   "cell_type": "code",
   "execution_count": 61,
   "id": "ee038a7b",
   "metadata": {},
   "outputs": [
    {
     "name": "stderr",
     "output_type": "stream",
     "text": [
      "C:\\Users\\LENOVO\\anaconda3\\lib\\site-packages\\seaborn\\_decorators.py:36: FutureWarning: Pass the following variable as a keyword arg: x. From version 0.12, the only valid positional argument will be `data`, and passing other arguments without an explicit keyword will result in an error or misinterpretation.\n",
      "  warnings.warn(\n"
     ]
    },
    {
     "data": {
      "image/png": "[encoded data removed]",
      "text/plain": [
       "<Figure size 864x288 with 2 Axes>"
      ]
     },
     "metadata": {
      "needs_background": "light"
     },
     "output_type": "display_data"
    }
   ],
   "source": [
    "# Univariate analysis Grade\n",
    "# Melihat distrubusi dari grade\n",
    "# sebagian besar rumah memiliki grade 7 dan 8\n",
    "f =plt.figure(figsize=(12,4))\n",
    "f.add_subplot( 1, 2, 1)\n",
    "sns.countplot(df['grade'])\n",
    "\n",
    "f.add_subplot(1, 2, 2)\n",
    "plt.boxplot(df['grade'])\n",
    "plt.show()"
   ]
  },
  {
   "cell_type": "code",
   "execution_count": 62,
   "id": "ab4d108a",
   "metadata": {},
   "outputs": [
    {
     "name": "stderr",
     "output_type": "stream",
     "text": [
      "C:\\Users\\LENOVO\\anaconda3\\lib\\site-packages\\seaborn\\_decorators.py:36: FutureWarning: Pass the following variable as a keyword arg: x. From version 0.12, the only valid positional argument will be `data`, and passing other arguments without an explicit keyword will result in an error or misinterpretation.\n",
      "  warnings.warn(\n"
     ]
    },
    {
     "data": {
      "image/png": "[encoded data removed]",
      "text/plain": [
       "<Figure size 864x288 with 2 Axes>"
      ]
     },
     "metadata": {
      "needs_background": "light"
     },
     "output_type": "display_data"
    }
   ],
   "source": [
    "# Univariate analysis year_built\n",
    "# Melihat Distribusi dari yr_built\n",
    "# Semakin tua umur dari umur rumah,sedikit orang menjual rumah\n",
    "# Data tidak memiliki outliers\n",
    "\n",
    "f=plt.figure(figsize=(12,4))\n",
    "\n",
    "f.add_subplot(1, 2, 1)\n",
    "sns.countplot(df['yr_built'])\n",
    "\n",
    "f.add_subplot(1, 2, 2)\n",
    "plt.boxplot(df['yr_built'])\n",
    "plt.show()"
   ]
  },
  {
   "cell_type": "code",
   "execution_count": 27,
   "id": "d673c14a",
   "metadata": {},
   "outputs": [
    {
     "name": "stderr",
     "output_type": "stream",
     "text": [
      "C:\\Users\\LENOVO\\anaconda3\\lib\\site-packages\\seaborn\\axisgrid.py:1969: UserWarning: The `size` parameter has been renamed to `height`; please update your code.\n",
      "  warnings.warn(msg, UserWarning)\n"
     ]
    },
    {
     "data": {
      "text/plain": [
       "<Figure size 720x576 with 0 Axes>"
      ]
     },
     "metadata": {},
     "output_type": "display_data"
    },
    {
     "data": {
      "image/png": "[encoded data removed]",
      "text/plain": [
       "<Figure size 1350x360 with 5 Axes>"
      ]
     },
     "metadata": {
      "needs_background": "light"
     },
     "output_type": "display_data"
    }
   ],
   "source": [
    "# Bivariate Analysis antara independent Variable dan dependent Variable\n",
    "# Melihat hubungan antara independent dan dependent\n",
    "# Menggunakan pairplot\n",
    "\n",
    "plt.figure(figsize=(10,8))\n",
    "sns.pairplot(data=df, x_vars=['bedrooms', 'bathrooms', 'sqft_living','grade', 'yr_built'], y_vars=['price'], size=5.\n",
    ", aspect =0.75)\n",
    "plt.show()\n",
    "\n"
   ]
  },
  {
   "cell_type": "code",
   "execution_count": 63,
   "id": "c586da4b",
   "metadata": {},
   "outputs": [
    {
     "data": {
      "text/html": [
       "<style  type=\"text/css\" >\n",
       "#T_827a5_row0_col0,#T_827a5_row1_col1,#T_827a5_row2_col2,#T_827a5_row3_col3,#T_827a5_row4_col4,#T_827a5_row5_col5{\n",
       "            background-color:  #023858;\n",
       "            color:  #f1f1f1;\n",
       "        }#T_827a5_row0_col1{\n",
       "            background-color:  #dfddec;\n",
       "            color:  #000000;\n",
       "        }#T_827a5_row0_col2{\n",
       "            background-color:  #eae6f1;\n",
       "            color:  #000000;\n",
       "        }#T_827a5_row0_col3{\n",
       "            background-color:  #549cc7;\n",
       "            color:  #000000;\n",
       "        }#T_827a5_row0_col4{\n",
       "            background-color:  #7eadd1;\n",
       "            color:  #000000;\n",
       "        }#T_827a5_row0_col5,#T_827a5_row1_col4,#T_827a5_row5_col0,#T_827a5_row5_col1,#T_827a5_row5_col2,#T_827a5_row5_col3{\n",
       "            background-color:  #fff7fb;\n",
       "            color:  #000000;\n",
       "        }#T_827a5_row1_col0{\n",
       "            background-color:  #c8cde4;\n",
       "            color:  #000000;\n",
       "        }#T_827a5_row1_col2{\n",
       "            background-color:  #f2ecf5;\n",
       "            color:  #000000;\n",
       "        }#T_827a5_row1_col3,#T_827a5_row2_col5{\n",
       "            background-color:  #9cb9d9;\n",
       "            color:  #000000;\n",
       "        }#T_827a5_row1_col5{\n",
       "            background-color:  #eee9f3;\n",
       "            color:  #000000;\n",
       "        }#T_827a5_row2_col0{\n",
       "            background-color:  #7bacd1;\n",
       "            color:  #000000;\n",
       "        }#T_827a5_row2_col1,#T_827a5_row2_col4{\n",
       "            background-color:  #a4bcda;\n",
       "            color:  #000000;\n",
       "        }#T_827a5_row2_col3{\n",
       "            background-color:  #589ec8;\n",
       "            color:  #000000;\n",
       "        }#T_827a5_row3_col0{\n",
       "            background-color:  #1e80b8;\n",
       "            color:  #000000;\n",
       "        }#T_827a5_row3_col1{\n",
       "            background-color:  #6da6cd;\n",
       "            color:  #000000;\n",
       "        }#T_827a5_row3_col2{\n",
       "            background-color:  #81aed2;\n",
       "            color:  #000000;\n",
       "        }#T_827a5_row3_col4{\n",
       "            background-color:  #358fc0;\n",
       "            color:  #000000;\n",
       "        }#T_827a5_row3_col5{\n",
       "            background-color:  #c6cce3;\n",
       "            color:  #000000;\n",
       "        }#T_827a5_row4_col0,#T_827a5_row4_col3{\n",
       "            background-color:  #2c89bd;\n",
       "            color:  #000000;\n",
       "        }#T_827a5_row4_col1{\n",
       "            background-color:  #d1d2e6;\n",
       "            color:  #000000;\n",
       "        }#T_827a5_row4_col2{\n",
       "            background-color:  #bdc8e1;\n",
       "            color:  #000000;\n",
       "        }#T_827a5_row4_col5{\n",
       "            background-color:  #96b6d7;\n",
       "            color:  #000000;\n",
       "        }#T_827a5_row5_col4{\n",
       "            background-color:  #ece7f2;\n",
       "            color:  #000000;\n",
       "        }</style><table id=\"T_827a5_\" ><thead>    <tr>        <th class=\"blank level0\" ></th>        <th class=\"col_heading level0 col0\" >price</th>        <th class=\"col_heading level0 col1\" >bedrooms</th>        <th class=\"col_heading level0 col2\" >bathrooms</th>        <th class=\"col_heading level0 col3\" >sqft_living</th>        <th class=\"col_heading level0 col4\" >grade</th>        <th class=\"col_heading level0 col5\" >yr_built</th>    </tr></thead><tbody>\n",
       "                <tr>\n",
       "                        <th id=\"T_827a5_level0_row0\" class=\"row_heading level0 row0\" >price</th>\n",
       "                        <td id=\"T_827a5_row0_col0\" class=\"data row0 col0\" >1.00</td>\n",
       "                        <td id=\"T_827a5_row0_col1\" class=\"data row0 col1\" >0.32</td>\n",
       "                        <td id=\"T_827a5_row0_col2\" class=\"data row0 col2\" >0.51</td>\n",
       "                        <td id=\"T_827a5_row0_col3\" class=\"data row0 col3\" >0.70</td>\n",
       "                        <td id=\"T_827a5_row0_col4\" class=\"data row0 col4\" >0.67</td>\n",
       "                        <td id=\"T_827a5_row0_col5\" class=\"data row0 col5\" >0.05</td>\n",
       "            </tr>\n",
       "            <tr>\n",
       "                        <th id=\"T_827a5_level0_row1\" class=\"row_heading level0 row1\" >bedrooms</th>\n",
       "                        <td id=\"T_827a5_row1_col0\" class=\"data row1 col0\" >0.32</td>\n",
       "                        <td id=\"T_827a5_row1_col1\" class=\"data row1 col1\" >1.00</td>\n",
       "                        <td id=\"T_827a5_row1_col2\" class=\"data row1 col2\" >0.48</td>\n",
       "                        <td id=\"T_827a5_row1_col3\" class=\"data row1 col3\" >0.59</td>\n",
       "                        <td id=\"T_827a5_row1_col4\" class=\"data row1 col4\" >0.37</td>\n",
       "                        <td id=\"T_827a5_row1_col5\" class=\"data row1 col5\" >0.16</td>\n",
       "            </tr>\n",
       "            <tr>\n",
       "                        <th id=\"T_827a5_level0_row2\" class=\"row_heading level0 row2\" >bathrooms</th>\n",
       "                        <td id=\"T_827a5_row2_col0\" class=\"data row2 col0\" >0.51</td>\n",
       "                        <td id=\"T_827a5_row2_col1\" class=\"data row2 col1\" >0.48</td>\n",
       "                        <td id=\"T_827a5_row2_col2\" class=\"data row2 col2\" >1.00</td>\n",
       "                        <td id=\"T_827a5_row2_col3\" class=\"data row2 col3\" >0.70</td>\n",
       "                        <td id=\"T_827a5_row2_col4\" class=\"data row2 col4\" >0.61</td>\n",
       "                        <td id=\"T_827a5_row2_col5\" class=\"data row2 col5\" >0.43</td>\n",
       "            </tr>\n",
       "            <tr>\n",
       "                        <th id=\"T_827a5_level0_row3\" class=\"row_heading level0 row3\" >sqft_living</th>\n",
       "                        <td id=\"T_827a5_row3_col0\" class=\"data row3 col0\" >0.70</td>\n",
       "                        <td id=\"T_827a5_row3_col1\" class=\"data row3 col1\" >0.59</td>\n",
       "                        <td id=\"T_827a5_row3_col2\" class=\"data row3 col2\" >0.70</td>\n",
       "                        <td id=\"T_827a5_row3_col3\" class=\"data row3 col3\" >1.00</td>\n",
       "                        <td id=\"T_827a5_row3_col4\" class=\"data row3 col4\" >0.76</td>\n",
       "                        <td id=\"T_827a5_row3_col5\" class=\"data row3 col5\" >0.32</td>\n",
       "            </tr>\n",
       "            <tr>\n",
       "                        <th id=\"T_827a5_level0_row4\" class=\"row_heading level0 row4\" >grade</th>\n",
       "                        <td id=\"T_827a5_row4_col0\" class=\"data row4 col0\" >0.67</td>\n",
       "                        <td id=\"T_827a5_row4_col1\" class=\"data row4 col1\" >0.37</td>\n",
       "                        <td id=\"T_827a5_row4_col2\" class=\"data row4 col2\" >0.61</td>\n",
       "                        <td id=\"T_827a5_row4_col3\" class=\"data row4 col3\" >0.76</td>\n",
       "                        <td id=\"T_827a5_row4_col4\" class=\"data row4 col4\" >1.00</td>\n",
       "                        <td id=\"T_827a5_row4_col5\" class=\"data row4 col5\" >0.45</td>\n",
       "            </tr>\n",
       "            <tr>\n",
       "                        <th id=\"T_827a5_level0_row5\" class=\"row_heading level0 row5\" >yr_built</th>\n",
       "                        <td id=\"T_827a5_row5_col0\" class=\"data row5 col0\" >0.05</td>\n",
       "                        <td id=\"T_827a5_row5_col1\" class=\"data row5 col1\" >0.16</td>\n",
       "                        <td id=\"T_827a5_row5_col2\" class=\"data row5 col2\" >0.43</td>\n",
       "                        <td id=\"T_827a5_row5_col3\" class=\"data row5 col3\" >0.32</td>\n",
       "                        <td id=\"T_827a5_row5_col4\" class=\"data row5 col4\" >0.45</td>\n",
       "                        <td id=\"T_827a5_row5_col5\" class=\"data row5 col5\" >1.00</td>\n",
       "            </tr>\n",
       "    </tbody></table>"
      ],
      "text/plain": [
       "<pandas.io.formats.style.Styler at 0x2c9e3f4f910>"
      ]
     },
     "execution_count": 63,
     "metadata": {},
     "output_type": "execute_result"
    }
   ],
   "source": [
    "# Mengetahui Nilai Korelasi dari indepedent variable dan dependent Variable\n",
    "df.corr().style.background_gradient().set_precision(2)"
   ]
  },
  {
   "cell_type": "code",
   "execution_count": 64,
   "id": "4f573ad4",
   "metadata": {},
   "outputs": [
    {
     "data": {
      "text/html": [
       "<div>\n",
       "<style scoped>\n",
       "    .dataframe tbody tr th:only-of-type {\n",
       "        vertical-align: middle;\n",
       "    }\n",
       "\n",
       "    .dataframe tbody tr th {\n",
       "        vertical-align: top;\n",
       "    }\n",
       "\n",
       "    .dataframe thead th {\n",
       "        text-align: right;\n",
       "    }\n",
       "</style>\n",
       "<table border=\"1\" class=\"dataframe\">\n",
       "  <thead>\n",
       "    <tr style=\"text-align: right;\">\n",
       "      <th></th>\n",
       "      <th>price</th>\n",
       "      <th>bedrooms</th>\n",
       "      <th>bathrooms</th>\n",
       "      <th>sqft_living</th>\n",
       "      <th>grade</th>\n",
       "      <th>yr_built</th>\n",
       "    </tr>\n",
       "  </thead>\n",
       "  <tbody>\n",
       "    <tr>\n",
       "      <th>0</th>\n",
       "      <td>221900.0</td>\n",
       "      <td>3</td>\n",
       "      <td>1</td>\n",
       "      <td>1180</td>\n",
       "      <td>7</td>\n",
       "      <td>1955</td>\n",
       "    </tr>\n",
       "    <tr>\n",
       "      <th>1</th>\n",
       "      <td>538000.0</td>\n",
       "      <td>3</td>\n",
       "      <td>2</td>\n",
       "      <td>2570</td>\n",
       "      <td>7</td>\n",
       "      <td>1951</td>\n",
       "    </tr>\n",
       "    <tr>\n",
       "      <th>2</th>\n",
       "      <td>180000.0</td>\n",
       "      <td>2</td>\n",
       "      <td>1</td>\n",
       "      <td>770</td>\n",
       "      <td>6</td>\n",
       "      <td>1933</td>\n",
       "    </tr>\n",
       "    <tr>\n",
       "      <th>3</th>\n",
       "      <td>604000.0</td>\n",
       "      <td>4</td>\n",
       "      <td>3</td>\n",
       "      <td>1960</td>\n",
       "      <td>7</td>\n",
       "      <td>1965</td>\n",
       "    </tr>\n",
       "    <tr>\n",
       "      <th>4</th>\n",
       "      <td>510000.0</td>\n",
       "      <td>3</td>\n",
       "      <td>2</td>\n",
       "      <td>1680</td>\n",
       "      <td>8</td>\n",
       "      <td>1987</td>\n",
       "    </tr>\n",
       "  </tbody>\n",
       "</table>\n",
       "</div>"
      ],
      "text/plain": [
       "      price  bedrooms  bathrooms  sqft_living  grade  yr_built\n",
       "0  221900.0         3          1         1180      7      1955\n",
       "1  538000.0         3          2         2570      7      1951\n",
       "2  180000.0         2          1          770      6      1933\n",
       "3  604000.0         4          3         1960      7      1965\n",
       "4  510000.0         3          2         1680      8      1987"
      ]
     },
     "execution_count": 64,
     "metadata": {},
     "output_type": "execute_result"
    }
   ],
   "source": [
    "# Modeling\n",
    "df.head()"
   ]
  },
  {
   "cell_type": "code",
   "execution_count": 66,
   "id": "1a6212da",
   "metadata": {},
   "outputs": [],
   "source": [
    "#Pertama, buat variabel x dan y\n",
    "x = df.drop(columns='price')\n",
    "y = df['price']"
   ]
  },
  {
   "cell_type": "code",
   "execution_count": 67,
   "id": "fbaaa068",
   "metadata": {},
   "outputs": [],
   "source": [
    "#Kedua, kita split data kita menjadi training and testing dengan porsi 80:20\n",
    "x_train, x_test, y_train, y_test = train_test_split(x, y, test_size=0.2, random_state=4)"
   ]
  },
  {
   "cell_type": "code",
   "execution_count": 68,
   "id": "8f7efd12",
   "metadata": {},
   "outputs": [
    {
     "name": "stdout",
     "output_type": "stream",
     "text": [
      "(17290, 5)\n",
      "(17290,)\n",
      "(4323, 5)\n",
      "(4323,)\n"
     ]
    }
   ],
   "source": [
    "# Cek shape dari data training dan data set\n",
    "print(x_train.shape)\n",
    "print(y_train.shape)\n",
    "print(x_test.shape)\n",
    "print(y_test.shape)\n"
   ]
  },
  {
   "cell_type": "code",
   "execution_count": 69,
   "id": "1fe0ab2b",
   "metadata": {},
   "outputs": [],
   "source": [
    "from sklearn.linear_model import LinearRegression\n"
   ]
  },
  {
   "cell_type": "code",
   "execution_count": 74,
   "id": "a78c5cbf",
   "metadata": {},
   "outputs": [
    {
     "data": {
      "text/plain": [
       "LinearRegression()"
      ]
     },
     "execution_count": 74,
     "metadata": {},
     "output_type": "execute_result"
    }
   ],
   "source": [
    "# Fit The model\n",
    "lr_model= LinearRegression()\n",
    "lr_model.fit(x_train, y_train)\n",
    "\n"
   ]
  },
  {
   "cell_type": "code",
   "execution_count": 79,
   "id": "00d3618c",
   "metadata": {},
   "outputs": [
    {
     "name": "stdout",
     "output_type": "stream",
     "text": [
      "[-53061.75464279  64658.55790616    188.90926343 131290.89536823\n",
      "  -3969.55831454]\n",
      "7031568.245717709\n"
     ]
    }
   ],
   "source": [
    "# Cari tahu nilai slope/koefisien (m) dan intercept(b)\n",
    "print(lr_model.coef_)\n",
    "print(lr_model.intercept_)\n",
    "\n",
    "\n"
   ]
  },
  {
   "cell_type": "code",
   "execution_count": 87,
   "id": "b98a8f29",
   "metadata": {},
   "outputs": [],
   "source": [
    "# Membuat ke dalam data Frame agar lebih baik\n",
    "coef_dict={'feature':x.columns, 'coef_value':lr_model.coef_}\n",
    "coef =pd.DataFrame(coef_dict,columns=['feature', 'coef_value'])"
   ]
  },
  {
   "cell_type": "code",
   "execution_count": 88,
   "id": "203c1b1c",
   "metadata": {},
   "outputs": [
    {
     "data": {
      "text/html": [
       "<div>\n",
       "<style scoped>\n",
       "    .dataframe tbody tr th:only-of-type {\n",
       "        vertical-align: middle;\n",
       "    }\n",
       "\n",
       "    .dataframe tbody tr th {\n",
       "        vertical-align: top;\n",
       "    }\n",
       "\n",
       "    .dataframe thead th {\n",
       "        text-align: right;\n",
       "    }\n",
       "</style>\n",
       "<table border=\"1\" class=\"dataframe\">\n",
       "  <thead>\n",
       "    <tr style=\"text-align: right;\">\n",
       "      <th></th>\n",
       "      <th>feature</th>\n",
       "      <th>coef_value</th>\n",
       "    </tr>\n",
       "  </thead>\n",
       "  <tbody>\n",
       "    <tr>\n",
       "      <th>0</th>\n",
       "      <td>bedrooms</td>\n",
       "      <td>-53061.754643</td>\n",
       "    </tr>\n",
       "    <tr>\n",
       "      <th>1</th>\n",
       "      <td>bathrooms</td>\n",
       "      <td>64658.557906</td>\n",
       "    </tr>\n",
       "    <tr>\n",
       "      <th>2</th>\n",
       "      <td>sqft_living</td>\n",
       "      <td>188.909263</td>\n",
       "    </tr>\n",
       "    <tr>\n",
       "      <th>3</th>\n",
       "      <td>grade</td>\n",
       "      <td>131290.895368</td>\n",
       "    </tr>\n",
       "    <tr>\n",
       "      <th>4</th>\n",
       "      <td>yr_built</td>\n",
       "      <td>-3969.558315</td>\n",
       "    </tr>\n",
       "  </tbody>\n",
       "</table>\n",
       "</div>"
      ],
      "text/plain": [
       "       feature     coef_value\n",
       "0     bedrooms  -53061.754643\n",
       "1    bathrooms   64658.557906\n",
       "2  sqft_living     188.909263\n",
       "3        grade  131290.895368\n",
       "4     yr_built   -3969.558315"
      ]
     },
     "execution_count": 88,
     "metadata": {},
     "output_type": "execute_result"
    }
   ],
   "source": [
    "coef"
   ]
  },
  {
   "cell_type": "code",
   "execution_count": 89,
   "id": "e755a9bb",
   "metadata": {},
   "outputs": [],
   "source": [
    "y_pred=lr_model.predict(x_test)"
   ]
  },
  {
   "cell_type": "code",
   "execution_count": 90,
   "id": "b3541e2f",
   "metadata": {},
   "outputs": [
    {
     "data": {
      "text/plain": [
       "0.6125113286941102"
      ]
     },
     "execution_count": 90,
     "metadata": {},
     "output_type": "execute_result"
    }
   ],
   "source": [
    "#Keenam, kita cari tahu accuracy score dari model kita menggunakan testing data yang sudah displit\n",
    "lr_model.score(x_test, y_test)"
   ]
  },
  {
   "cell_type": "code",
   "execution_count": 91,
   "id": "9d3c97b4",
   "metadata": {},
   "outputs": [
    {
     "data": {
      "text/plain": [
       "array([361351.99342265])"
      ]
     },
     "execution_count": 91,
     "metadata": {},
     "output_type": "execute_result"
    }
   ],
   "source": [
    "# Prediksi harga rumah \n",
    "lr_model.predict([[3, 2, 1800, 7, 1990]])"
   ]
  },
  {
   "cell_type": "code",
   "execution_count": null,
   "id": "61ade59d",
   "metadata": {},
   "outputs": [],
   "source": [
    "# Final harga Rumah \n",
    "# Mr.Brown sendiri ingin membeli rumah dengan jumlah kamar tidur itu 3, jumlah kamar mandinya itu 2, luas rumahnya itu 1800sqft, grade rumahnya 7 dan tahun pembangunanya pada tahun 1990\n",
    "# adalah\n",
    "Harga rumah idaman Mr.Brown dan istirnya adalah sekitar US$ 361351 "
   ]
  }
 ],
 "metadata": {
  "kernelspec": {
   "display_name": "Python 3",
   "language": "python",
   "name": "python3"
  },
  "language_info": {
   "codemirror_mode": {
    "name": "ipython",
    "version": 3
   },
   "file_extension": ".py",
   "mimetype": "text/x-python",
   "name": "python",
   "nbconvert_exporter": "python",
   "pygments_lexer": "ipython3",
   "version": "3.8.8"
  }
 },
 "nbformat": 4,
 "nbformat_minor": 5
}
